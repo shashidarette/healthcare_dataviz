{
 "cells": [
  {
   "cell_type": "markdown",
   "metadata": {},
   "source": [
    "## This notebook is to analyse the practice indicators available from PHE dataset"
   ]
  },
  {
   "cell_type": "code",
   "execution_count": 1,
   "metadata": {
    "collapsed": true
   },
   "outputs": [],
   "source": [
    "import pandas as pd\n",
    "import numpy as np\n",
    "import matplotlib.pyplot as plt\n",
    "import seaborn as sns"
   ]
  },
  {
   "cell_type": "code",
   "execution_count": 2,
   "metadata": {},
   "outputs": [
    {
     "name": "stderr",
     "output_type": "stream",
     "text": [
      "C:\\Users\\Shashi\\Anaconda3\\lib\\site-packages\\IPython\\core\\interactiveshell.py:2698: DtypeWarning: Columns (9,10,11,20) have mixed types. Specify dtype option on import or set low_memory=False.\n",
      "  interactivity=interactivity, compiler=compiler, result=result)\n"
     ]
    },
    {
     "data": {
      "text/html": [
       "<div>\n",
       "<style scoped>\n",
       "    .dataframe tbody tr th:only-of-type {\n",
       "        vertical-align: middle;\n",
       "    }\n",
       "\n",
       "    .dataframe tbody tr th {\n",
       "        vertical-align: top;\n",
       "    }\n",
       "\n",
       "    .dataframe thead th {\n",
       "        text-align: right;\n",
       "    }\n",
       "</style>\n",
       "<table border=\"1\" class=\"dataframe\">\n",
       "  <thead>\n",
       "    <tr style=\"text-align: right;\">\n",
       "      <th></th>\n",
       "      <th>Indicator ID</th>\n",
       "      <th>Indicator Name</th>\n",
       "      <th>Parent Code</th>\n",
       "      <th>Parent Name</th>\n",
       "      <th>Area Code</th>\n",
       "      <th>Area Name</th>\n",
       "      <th>Area Type</th>\n",
       "      <th>Sex</th>\n",
       "      <th>Age</th>\n",
       "      <th>Category Type</th>\n",
       "      <th>...</th>\n",
       "      <th>Upper CI 95.0 limit</th>\n",
       "      <th>Lower CI 99.8 limit</th>\n",
       "      <th>Upper CI 99.8 limit</th>\n",
       "      <th>Count</th>\n",
       "      <th>Denominator</th>\n",
       "      <th>Value note</th>\n",
       "      <th>Recent Trend</th>\n",
       "      <th>Compared to England value or percentiles</th>\n",
       "      <th>Compared to subnational parent value or percentiles</th>\n",
       "      <th>Time period Sortable</th>\n",
       "    </tr>\n",
       "  </thead>\n",
       "  <tbody>\n",
       "    <tr>\n",
       "      <th>0</th>\n",
       "      <td>639</td>\n",
       "      <td>% aged 0 to 4 years</td>\n",
       "      <td>NaN</td>\n",
       "      <td>NaN</td>\n",
       "      <td>E92000001</td>\n",
       "      <td>England</td>\n",
       "      <td>Country</td>\n",
       "      <td>Persons</td>\n",
       "      <td>0-4 yrs</td>\n",
       "      <td>NaN</td>\n",
       "      <td>...</td>\n",
       "      <td>5.873742</td>\n",
       "      <td>NaN</td>\n",
       "      <td>NaN</td>\n",
       "      <td>3227397.0</td>\n",
       "      <td>5.500437e+07</td>\n",
       "      <td>NaN</td>\n",
       "      <td>NaN</td>\n",
       "      <td>Not compared</td>\n",
       "      <td>Not compared</td>\n",
       "      <td>20100000</td>\n",
       "    </tr>\n",
       "    <tr>\n",
       "      <th>1</th>\n",
       "      <td>639</td>\n",
       "      <td>% aged 0 to 4 years</td>\n",
       "      <td>NaN</td>\n",
       "      <td>NaN</td>\n",
       "      <td>E92000001</td>\n",
       "      <td>England</td>\n",
       "      <td>Country</td>\n",
       "      <td>Persons</td>\n",
       "      <td>0-4 yrs</td>\n",
       "      <td>CCG deprivation deciles in England (IMD2010)</td>\n",
       "      <td>...</td>\n",
       "      <td>NaN</td>\n",
       "      <td>NaN</td>\n",
       "      <td>NaN</td>\n",
       "      <td>391232.0</td>\n",
       "      <td>5.793590e+06</td>\n",
       "      <td>Aggregated from all known lower geography values</td>\n",
       "      <td>NaN</td>\n",
       "      <td>Higher</td>\n",
       "      <td>Not compared</td>\n",
       "      <td>20100000</td>\n",
       "    </tr>\n",
       "    <tr>\n",
       "      <th>2</th>\n",
       "      <td>639</td>\n",
       "      <td>% aged 0 to 4 years</td>\n",
       "      <td>NaN</td>\n",
       "      <td>NaN</td>\n",
       "      <td>E92000001</td>\n",
       "      <td>England</td>\n",
       "      <td>Country</td>\n",
       "      <td>Persons</td>\n",
       "      <td>0-4 yrs</td>\n",
       "      <td>CCG deprivation deciles in England (IMD2010)</td>\n",
       "      <td>...</td>\n",
       "      <td>NaN</td>\n",
       "      <td>NaN</td>\n",
       "      <td>NaN</td>\n",
       "      <td>386071.0</td>\n",
       "      <td>5.996946e+06</td>\n",
       "      <td>Aggregated from all known lower geography values</td>\n",
       "      <td>NaN</td>\n",
       "      <td>Higher</td>\n",
       "      <td>Not compared</td>\n",
       "      <td>20100000</td>\n",
       "    </tr>\n",
       "    <tr>\n",
       "      <th>3</th>\n",
       "      <td>639</td>\n",
       "      <td>% aged 0 to 4 years</td>\n",
       "      <td>NaN</td>\n",
       "      <td>NaN</td>\n",
       "      <td>E92000001</td>\n",
       "      <td>England</td>\n",
       "      <td>Country</td>\n",
       "      <td>Persons</td>\n",
       "      <td>0-4 yrs</td>\n",
       "      <td>CCG deprivation deciles in England (IMD2010)</td>\n",
       "      <td>...</td>\n",
       "      <td>NaN</td>\n",
       "      <td>NaN</td>\n",
       "      <td>NaN</td>\n",
       "      <td>282722.0</td>\n",
       "      <td>4.815029e+06</td>\n",
       "      <td>Aggregated from all known lower geography values</td>\n",
       "      <td>NaN</td>\n",
       "      <td>Same</td>\n",
       "      <td>Not compared</td>\n",
       "      <td>20100000</td>\n",
       "    </tr>\n",
       "    <tr>\n",
       "      <th>4</th>\n",
       "      <td>639</td>\n",
       "      <td>% aged 0 to 4 years</td>\n",
       "      <td>NaN</td>\n",
       "      <td>NaN</td>\n",
       "      <td>E92000001</td>\n",
       "      <td>England</td>\n",
       "      <td>Country</td>\n",
       "      <td>Persons</td>\n",
       "      <td>0-4 yrs</td>\n",
       "      <td>CCG deprivation deciles in England (IMD2010)</td>\n",
       "      <td>...</td>\n",
       "      <td>NaN</td>\n",
       "      <td>NaN</td>\n",
       "      <td>NaN</td>\n",
       "      <td>305767.0</td>\n",
       "      <td>5.138685e+06</td>\n",
       "      <td>Aggregated from all known lower geography values</td>\n",
       "      <td>NaN</td>\n",
       "      <td>Higher</td>\n",
       "      <td>Not compared</td>\n",
       "      <td>20100000</td>\n",
       "    </tr>\n",
       "  </tbody>\n",
       "</table>\n",
       "<p>5 rows × 24 columns</p>\n",
       "</div>"
      ],
      "text/plain": [
       "   Indicator ID       Indicator Name Parent Code Parent Name  Area Code  \\\n",
       "0           639  % aged 0 to 4 years         NaN         NaN  E92000001   \n",
       "1           639  % aged 0 to 4 years         NaN         NaN  E92000001   \n",
       "2           639  % aged 0 to 4 years         NaN         NaN  E92000001   \n",
       "3           639  % aged 0 to 4 years         NaN         NaN  E92000001   \n",
       "4           639  % aged 0 to 4 years         NaN         NaN  E92000001   \n",
       "\n",
       "  Area Name Area Type      Sex      Age  \\\n",
       "0   England   Country  Persons  0-4 yrs   \n",
       "1   England   Country  Persons  0-4 yrs   \n",
       "2   England   Country  Persons  0-4 yrs   \n",
       "3   England   Country  Persons  0-4 yrs   \n",
       "4   England   Country  Persons  0-4 yrs   \n",
       "\n",
       "                                  Category Type         ...           \\\n",
       "0                                           NaN         ...            \n",
       "1  CCG deprivation deciles in England (IMD2010)         ...            \n",
       "2  CCG deprivation deciles in England (IMD2010)         ...            \n",
       "3  CCG deprivation deciles in England (IMD2010)         ...            \n",
       "4  CCG deprivation deciles in England (IMD2010)         ...            \n",
       "\n",
       "  Upper CI 95.0 limit Lower CI 99.8 limit  Upper CI 99.8 limit      Count  \\\n",
       "0            5.873742                 NaN                  NaN  3227397.0   \n",
       "1                 NaN                 NaN                  NaN   391232.0   \n",
       "2                 NaN                 NaN                  NaN   386071.0   \n",
       "3                 NaN                 NaN                  NaN   282722.0   \n",
       "4                 NaN                 NaN                  NaN   305767.0   \n",
       "\n",
       "    Denominator                                        Value note  \\\n",
       "0  5.500437e+07                                               NaN   \n",
       "1  5.793590e+06  Aggregated from all known lower geography values   \n",
       "2  5.996946e+06  Aggregated from all known lower geography values   \n",
       "3  4.815029e+06  Aggregated from all known lower geography values   \n",
       "4  5.138685e+06  Aggregated from all known lower geography values   \n",
       "\n",
       "   Recent Trend  Compared to England value or percentiles  \\\n",
       "0           NaN                              Not compared   \n",
       "1           NaN                                    Higher   \n",
       "2           NaN                                    Higher   \n",
       "3           NaN                                      Same   \n",
       "4           NaN                                    Higher   \n",
       "\n",
       "   Compared to subnational parent value or percentiles Time period Sortable  \n",
       "0                                       Not compared               20100000  \n",
       "1                                       Not compared               20100000  \n",
       "2                                       Not compared               20100000  \n",
       "3                                       Not compared               20100000  \n",
       "4                                       Not compared               20100000  \n",
       "\n",
       "[5 rows x 24 columns]"
      ]
     },
     "execution_count": 2,
     "metadata": {},
     "output_type": "execute_result"
    }
   ],
   "source": [
    "# General Practice Indicators from PHE (It includes England, CCG level indicators as well)\n",
    "GPIndicators = pd.read_csv('..\\..\\..\\..\\MAIN_PROJECT\\Data\\PHE\\PracticeProfileIndicators.csv', sep=',', encoding = \"ISO-8859-1\")\n",
    "GPIndicators.head()"
   ]
  },
  {
   "cell_type": "code",
   "execution_count": 3,
   "metadata": {},
   "outputs": [
    {
     "data": {
      "text/plain": [
       "Index(['Indicator ID', 'Indicator Name', 'Parent Code', 'Parent Name',\n",
       "       'Area Code', 'Area Name', 'Area Type', 'Sex', 'Age', 'Category Type',\n",
       "       'Category', 'Time period', 'Value', 'Lower CI 95.0 limit',\n",
       "       'Upper CI 95.0 limit', 'Lower CI 99.8 limit', 'Upper CI 99.8 limit',\n",
       "       'Count', 'Denominator', 'Value note', 'Recent Trend',\n",
       "       'Compared to England value or percentiles',\n",
       "       'Compared to subnational parent value or percentiles',\n",
       "       'Time period Sortable'],\n",
       "      dtype='object')"
      ]
     },
     "execution_count": 3,
     "metadata": {},
     "output_type": "execute_result"
    }
   ],
   "source": [
    "GPIndicators.columns"
   ]
  },
  {
   "cell_type": "code",
   "execution_count": 4,
   "metadata": {},
   "outputs": [
    {
     "data": {
      "text/plain": [
       "array(['Country', 'CCGs (since 4/2017)', 'GP'], dtype=object)"
      ]
     },
     "execution_count": 4,
     "metadata": {},
     "output_type": "execute_result"
    }
   ],
   "source": [
    "# types of areas\n",
    "GPIndicators['Area Type'].unique()"
   ]
  },
  {
   "cell_type": "code",
   "execution_count": 9,
   "metadata": {},
   "outputs": [
    {
     "data": {
      "text/plain": [
       "array(['% aged 0 to 4 years', '% aged 5 to 14 years',\n",
       "       '% aged under 18 years', '% aged 65+ years', '% aged 75+ years',\n",
       "       '% aged 85+ years', '% who would recommend practice',\n",
       "       'Deprivation score (IMD 2015)', 'Deprivation score (IMD 2010)',\n",
       "       '% satisfied with phone access', 'IDACI (Income Depr. - Children)',\n",
       "       '% satisfied with opening hours',\n",
       "       'IDAOPI (Income Depr. - Older People)',\n",
       "       '% who saw/spoke to nurse or GP same or next day',\n",
       "       '% reporting good overall experience of making appointment',\n",
       "       '% with a long-standing health condition',\n",
       "       '% with caring responsibility',\n",
       "       'Working status - Paid work or full-time education',\n",
       "       'Working status - Unemployed', 'Total QOF points',\n",
       "       'Nursing home patients', 'Life expectancy - MSOA based'], dtype=object)"
      ]
     },
     "execution_count": 9,
     "metadata": {},
     "output_type": "execute_result"
    }
   ],
   "source": [
    "# types of indicators data available\n",
    "GPIndicators['Indicator Name'].unique()"
   ]
  },
  {
   "cell_type": "code",
   "execution_count": 10,
   "metadata": {},
   "outputs": [
    {
     "data": {
      "text/plain": [
       "array([  639,   640,   643,   336,   641,   642,   347, 91872,   338,\n",
       "        1942,   339,   345,   340,   348,   349,   351,   352,   353,\n",
       "         354,   295,   698,   650], dtype=int64)"
      ]
     },
     "execution_count": 10,
     "metadata": {},
     "output_type": "execute_result"
    }
   ],
   "source": [
    "# types of indicators data available\n",
    "GPIndicators['Indicator ID'].unique()"
   ]
  },
  {
   "cell_type": "code",
   "execution_count": 7,
   "metadata": {},
   "outputs": [
    {
     "data": {
      "text/plain": [
       "array([2010, 2011, 2012, 2013, 2014, 2015, 2016, 2017, '2015', '2016',\n",
       "       '2017', '2010/11', '2011/12', '2012/13', '2013/14', '2014/15',\n",
       "       '2015/16', '2016/17', '2010', '2011', '2012', '2009/10',\n",
       "       '2006 - 10', '2007 - 11', '2008 - 12', '2009 - 13', '2010 - 14'], dtype=object)"
      ]
     },
     "execution_count": 7,
     "metadata": {},
     "output_type": "execute_result"
    }
   ],
   "source": [
    "# Time periods avaoilable\n",
    "GPIndicators['Time period'].unique()"
   ]
  },
  {
   "cell_type": "code",
   "execution_count": 26,
   "metadata": {
    "collapsed": true
   },
   "outputs": [],
   "source": [
    "# AreaTypeFilters\n",
    "GPFilter = GPIndicators['Area Type'] == 'GP'\n",
    "CCGFilter = GPIndicators['Area Type'] == 'CCGs (since 4/2017)'\n",
    "EnglandFilter = GPIndicators['Area Type'] == 'Country'"
   ]
  },
  {
   "cell_type": "code",
   "execution_count": 27,
   "metadata": {
    "collapsed": true
   },
   "outputs": [],
   "source": [
    "# Data by AreaType\n",
    "GP_Data = GPIndicators[GPFilter]\n",
    "CCG_Data = GPIndicators[CCGFilter]\n",
    "England_Data = GPIndicators[EnglandFilter]"
   ]
  },
  {
   "cell_type": "code",
   "execution_count": 28,
   "metadata": {
    "collapsed": true
   },
   "outputs": [],
   "source": [
    "# Save to CSV\n",
    "GP_Data.to_csv('PHE_GP_Indicators.csv', sep=',')"
   ]
  },
  {
   "cell_type": "code",
   "execution_count": 29,
   "metadata": {
    "collapsed": true
   },
   "outputs": [],
   "source": [
    "# Save to CSV\n",
    "CCG_Data.to_csv('PHE_CCG_Indicators.csv', sep=',')"
   ]
  },
  {
   "cell_type": "code",
   "execution_count": 30,
   "metadata": {
    "collapsed": true
   },
   "outputs": [],
   "source": [
    "# Save to CSV\n",
    "England_Data.to_csv('PHE_ENG_Indicators.csv', sep=',')"
   ]
  },
  {
   "cell_type": "code",
   "execution_count": 36,
   "metadata": {
    "collapsed": true
   },
   "outputs": [],
   "source": [
    "# Extract IMD 2015 data from GP Data\n",
    "GP_IMD_2k15_Filter = GP_Data['Indicator Name'] == 'Deprivation score (IMD 2015)' \n",
    "GP_IMD_2k15_Data = GP_Data[GP_IMD_2k15_Filter]\n",
    "GP_IMD_2k15_Data.to_csv('PHE_GP_IMD_2k15_Indicators.csv', sep=',')"
   ]
  },
  {
   "cell_type": "code",
   "execution_count": 49,
   "metadata": {},
   "outputs": [
    {
     "data": {
      "image/png": "[encoded data removed]",
      "text/plain": [
       "<matplotlib.figure.Figure at 0x23012cb7588>"
      ]
     },
     "metadata": {},
     "output_type": "display_data"
    }
   ],
   "source": [
    "# Scatter plot of per-patient act cost for UK\n",
    "IMDColumnFilter = GP_IMD_2k15_Data['Indicator Name'] == 'Deprivation score (IMD 2015)' \n",
    "IMDData = GP_IMD_2k15_Data[IMDColumnFilter]\n",
    "x = np.arange(0, IMDData['Indicator Name'].count(), 1)\n",
    "y = IMDData['Value']\n",
    "\n",
    "plt.scatter(x, y)\n",
    "plt.xlabel(\"Practice Index\")\n",
    "plt.ylabel(\"IMD Score\")\n",
    "plt.show()"
   ]
  },
  {
   "cell_type": "code",
   "execution_count": null,
   "metadata": {
    "collapsed": true
   },
   "outputs": [],
   "source": []
  }
 ],
 "metadata": {
  "kernelspec": {
   "display_name": "Python 3",
   "language": "python",
   "name": "python3"
  },
  "language_info": {
   "codemirror_mode": {
    "name": "ipython",
    "version": 3
   },
   "file_extension": ".py",
   "mimetype": "text/x-python",
   "name": "python",
   "nbconvert_exporter": "python",
   "pygments_lexer": "ipython3",
   "version": "3.6.3"
  }
 },
 "nbformat": 4,
 "nbformat_minor": 2
}
