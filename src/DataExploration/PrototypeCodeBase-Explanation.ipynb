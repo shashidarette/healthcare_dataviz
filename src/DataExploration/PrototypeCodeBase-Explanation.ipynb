{
 "cells": [
  {
   "cell_type": "markdown",
   "metadata": {},
   "source": [
    "# Application Prototype overview\n",
    "\n",
    "## The application prototype for this project is built using HTML, Bootstrap, JavaScript and JSON.\n",
    "\n",
    "## The code is available under [Prototype] folder\n",
    "\n",
    "### It provides following features:\n",
    "* Search General Practices by their id, post code or name\n",
    "* View prescription data trends for Jan-17 to Dec-17\n",
    "* Add GPs of interest to focus group for further analysis\n",
    "* In detailed view i.e. Trends and Focus Group, following information is shown:\n",
    "    * General GP information: \n",
    "        * Name, id, CCG name, Total Patient Size, Average Age, Index of Multiple Deprivition etc.\n",
    "    * Patient Age Distibution as pie chart\n",
    "    * GP Health Indicators information as radar chart\n",
    "    \n"
   ]
  },
  {
   "cell_type": "markdown",
   "metadata": {},
   "source": [
    "## The application code base following components.\n",
    "\n",
    "### The codebase primarility contains HTML, JavaScript and data files (JSON and CSV)\n",
    "\n",
    "### HTML Files:\n",
    "#### ClusterAnalysis.html - Cluster analysis page \n",
    "- single page with 3D cluster visualization\n",
    "- parameter selection\n",
    "- general information \n",
    "- costs information\n",
    "\n",
    "#### Home.html - Application main page\n",
    "- search GPs\n",
    "- options to manage and view focus group\n",
    "\n",
    "#### ViewFocusGroup.html - view focus groups for selected GPs\n",
    "#### ViewTrends.html - view trends for selected GP"
   ]
  },
  {
   "cell_type": "markdown",
   "metadata": {},
   "source": [
    "### JavaScript files\n",
    "#### clusters.js\n",
    "    * handles the code related to load of cluster data and visualization\n",
    "#### costs.js\n",
    "    * handles the generation of costs plot. Reused in Trends and FocusGroup pages\n",
    "\n",
    "#### home.js\n",
    "    * handles update HOME.html related code\n",
    "#### search.js\n",
    "    * handles search opertions, communication with openprescribing.net API and update results\n",
    "    \n",
    "#### trends.js\n",
    "    * handles ViewTrends.html updates\n",
    "    \n",
    "#### focusGroup.js\n",
    "    * handles ViewFocusGroups.html updates\n",
    "        \n",
    "#### drugGroups.js\n",
    "    * handles drugGroups related code - retrieval of costs\n",
    "    \n",
    "#### gpProfiles.js\n",
    "    * handles client logic related to GPProfiles\n",
    "    \n",
    "#### utils.js\n",
    "    * Utility funcitons"
   ]
  },
  {
   "cell_type": "code",
   "execution_count": null,
   "metadata": {
    "collapsed": true
   },
   "outputs": [],
   "source": []
  }
 ],
 "metadata": {
  "kernelspec": {
   "display_name": "Python 3",
   "language": "python",
   "name": "python3"
  },
  "language_info": {
   "codemirror_mode": {
    "name": "ipython",
    "version": 3
   },
   "file_extension": ".py",
   "mimetype": "text/x-python",
   "name": "python",
   "nbconvert_exporter": "python",
   "pygments_lexer": "ipython3",
   "version": "3.6.3"
  }
 },
 "nbformat": 4,
 "nbformat_minor": 2
}
